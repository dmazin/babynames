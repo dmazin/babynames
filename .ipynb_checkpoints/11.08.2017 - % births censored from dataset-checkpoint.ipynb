{
 "cells": [
  {
   "cell_type": "code",
   "execution_count": 50,
   "metadata": {},
   "outputs": [
    {
     "name": "stderr",
     "output_type": "stream",
     "text": [
      "/Users/dmitry/Library/Python/3.6/lib/python/site-packages/matplotlib/font_manager.py:279: UserWarning: Matplotlib is building the font cache using fc-list. This may take a moment.\n",
      "  'Matplotlib is building the font cache using fc-list. '\n"
     ]
    }
   ],
   "source": [
    "import pandas as pd"
   ]
  },
  {
   "cell_type": "code",
   "execution_count": 51,
   "metadata": {},
   "outputs": [],
   "source": [
    "# https://wonder.cdc.gov/natality.html\n",
    "births_per_year = {\n",
    "    1995: 3899589,\n",
    "    1996: 3891494,\n",
    "    1997: 3880894,\n",
    "    1998: 3941553,\n",
    "    1999: 3959417,\n",
    "    2000: 4058814,\n",
    "    2001: 4025933,\n",
    "    2002: 4021726,\n",
    "    2003: 4089950,\n",
    "    2004: 4112052,\n",
    "    2005: 4138349,\n",
    "    2006: 4265555,\n",
    "    2007: 4316233,\n",
    "    2008: 4247694,\n",
    "    2009: 4130665,\n",
    "    2010: 3999386,\n",
    "    2011: 3953590,\n",
    "    2012: 3952841,\n",
    "    2013: 3932181,\n",
    "    2014: 3988076,\n",
    "    2015: 3978497,\n",
    "}"
   ]
  },
  {
   "cell_type": "code",
   "execution_count": 52,
   "metadata": {},
   "outputs": [],
   "source": [
    "def get_num_births(year):\n",
    "    df = pd.io.parsers.read_csv(\n",
    "        'data/yob{}.txt'.format(year),\n",
    "        header=None  # Data files have no header\n",
    "    )\n",
    "    \n",
    "    # Column 3 is number of births\n",
    "    return df[2].sum()"
   ]
  },
  {
   "cell_type": "code",
   "execution_count": 53,
   "metadata": {},
   "outputs": [
    {
     "name": "stdout",
     "output_type": "stream",
     "text": [
      "1995: 0.06112772397296229\n",
      "1996: 0.06305418947067631\n",
      "1997: 0.06604895676099376\n",
      "1998: 0.06716007624405917\n",
      "1999: 0.06750084671556444\n",
      "2000: 0.06926851045650284\n",
      "2001: 0.07077166957323933\n",
      "2002: 0.07113239439981744\n",
      "2003: 0.07100404650423597\n",
      "2004: 0.07153338527820174\n",
      "2005: 0.07174576141354927\n",
      "2006: 0.07345445082761792\n",
      "2007: 0.07484002833025927\n",
      "2008: 0.0758548049835982\n",
      "2009: 0.07653150279676513\n",
      "2010: 0.07747914304845793\n",
      "2011: 0.07667866420139668\n",
      "2012: 0.07700790393542267\n",
      "2013: 0.07564173673592345\n",
      "2014: 0.07400711521044234\n",
      "2015: 0.07408526385718028\n"
     ]
    }
   ],
   "source": [
    "for year in births_per_year.keys():\n",
    "    print('{}: {}'.format(\n",
    "        year,\n",
    "        1 - (get_num_births(year) / births_per_year[year])\n",
    "    ))"
   ]
  }
 ],
 "metadata": {
  "kernelspec": {
   "display_name": "Python 3",
   "language": "python",
   "name": "python3"
  },
  "language_info": {
   "codemirror_mode": {
    "name": "ipython",
    "version": 3
   },
   "file_extension": ".py",
   "mimetype": "text/x-python",
   "name": "python",
   "nbconvert_exporter": "python",
   "pygments_lexer": "ipython3",
   "version": "3.6.3"
  }
 },
 "nbformat": 4,
 "nbformat_minor": 2
}
